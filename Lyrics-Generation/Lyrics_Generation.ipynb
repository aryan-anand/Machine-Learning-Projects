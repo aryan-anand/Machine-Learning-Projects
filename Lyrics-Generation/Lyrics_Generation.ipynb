{
  "nbformat": 4,
  "nbformat_minor": 0,
  "metadata": {
    "colab": {
      "name": "Lyrics-Generation.ipynb",
      "provenance": [],
      "collapsed_sections": []
    },
    "kernelspec": {
      "name": "python3",
      "display_name": "Python 3"
    }
  },
  "cells": [
    {
      "cell_type": "code",
      "metadata": {
        "id": "ciNBVYiH6JL4",
        "colab_type": "code",
        "colab": {}
      },
      "source": [
        "import requests"
      ],
      "execution_count": null,
      "outputs": []
    },
    {
      "cell_type": "code",
      "metadata": {
        "id": "3ihAEzOi6k4-",
        "colab_type": "code",
        "colab": {}
      },
      "source": [
        "data = requests.get(\"https://raw.githubusercontent.com/coding-blocks-archives/ML-Noida-2019-June-Two/master/datasets/speeches/speech.txt\")"
      ],
      "execution_count": null,
      "outputs": []
    },
    {
      "cell_type": "code",
      "metadata": {
        "id": "jtAj3AMJ6qdw",
        "colab_type": "code",
        "colab": {}
      },
      "source": [
        "data = data.text"
      ],
      "execution_count": null,
      "outputs": []
    },
    {
      "cell_type": "code",
      "metadata": {
        "id": "4ftSFbIp6rXk",
        "colab_type": "code",
        "colab": {
          "base_uri": "https://localhost:8080/",
          "height": 105
        },
        "outputId": "4f8a0612-6001-4691-e64b-0816db776dc8"
      },
      "source": [
        "data[0:1000]"
      ],
      "execution_count": null,
      "outputs": [
        {
          "output_type": "execute_result",
          "data": {
            "application/vnd.google.colaboratory.intrinsic+json": {
              "type": "string"
            },
            "text/plain": [
              "'26 8 2016, India\\nNiti Aayog\\nThere was a time when development was believed to depend on the quantity of capital and labour. Today we know that it depends as much on the quality of institutions and ideas. Early last year, a new institution was created, namely, the National Institution for Transforming India or NITI. NITI was created as an evidence based think tank to guide India’s transformation.\\nOne of NITI’s functions is:\\n- to mainstream external ideas into Government policies, through collaboration with national and international experts;\\n- to be the Government’s link to the outside world, outside experts and practitioners;\\n- to be the instrument through which ideas from outside are incorporated into policy-making.\\nThe Government of India and the State Governments have a long administrative tradition. This tradition combines indigenous and external ideas from India’s past. This administrative tradition has served India well in many ways. Above all, it has preserved democracy and fede'"
            ]
          },
          "metadata": {
            "tags": []
          },
          "execution_count": 6
        }
      ]
    },
    {
      "cell_type": "code",
      "metadata": {
        "id": "0-rtUX1j9UfJ",
        "colab_type": "code",
        "colab": {}
      },
      "source": [
        "def generateTransition(data, k = 4):\n",
        "  T = {}\n",
        "\n",
        "  for i in range(len(data)- k):\n",
        "    X = data[i : i+k]\n",
        "    y = data[i+k]\n",
        "  \n",
        "    if T.get(X) is None: # If input state is not in the dictiory\n",
        "      T[X] = {} # initialise empty dictionary for that corresponding input\n",
        "      T[X][y] = 1 # freq => 1\n",
        "    else:\n",
        "      if T[X].get(y) is None:  # If you already have input in dictionary but the output is not in dictionary\n",
        "        T[X][y] = 1\n",
        "    \n",
        "      else:\n",
        "        T[X][y] += 1 # if you have both input and output in dic, just increment the frequency.\n",
        "\n",
        "  return T"
      ],
      "execution_count": null,
      "outputs": []
    },
    {
      "cell_type": "code",
      "metadata": {
        "id": "I0YVGjpi_TYz",
        "colab_type": "code",
        "colab": {}
      },
      "source": [
        "T = generateTransition(data.lower())"
      ],
      "execution_count": null,
      "outputs": []
    },
    {
      "cell_type": "code",
      "metadata": {
        "id": "AZ6TbZXcA0zd",
        "colab_type": "code",
        "colab": {}
      },
      "source": [
        "input = \"country\""
      ],
      "execution_count": null,
      "outputs": []
    },
    {
      "cell_type": "code",
      "metadata": {
        "id": "HDP7Ld-WBeHD",
        "colab_type": "code",
        "colab": {}
      },
      "source": [
        "possible_chars = list(T[input[-4:]].keys())"
      ],
      "execution_count": null,
      "outputs": []
    },
    {
      "cell_type": "code",
      "metadata": {
        "id": "MX4JnXBkBiNl",
        "colab_type": "code",
        "colab": {}
      },
      "source": [
        "possible_freq = list(T[input[-4:]].values())"
      ],
      "execution_count": null,
      "outputs": []
    },
    {
      "cell_type": "code",
      "metadata": {
        "id": "sh8vLH-2BqVU",
        "colab_type": "code",
        "colab": {}
      },
      "source": [
        "# converting frequencies into probabilities...\n",
        "probabs = []\n",
        "for ele in possible_freq:\n",
        "  x = ele/sum(possible_freq)\n",
        "  probabs.append(x)"
      ],
      "execution_count": null,
      "outputs": []
    },
    {
      "cell_type": "code",
      "metadata": {
        "id": "DTRzoOjnCK1s",
        "colab_type": "code",
        "colab": {
          "base_uri": "https://localhost:8080/",
          "height": 72
        },
        "outputId": "7840b199-3443-40fb-f7ff-08717ec7d451"
      },
      "source": [
        "print(possible_chars)\n",
        "print(probabs)"
      ],
      "execution_count": null,
      "outputs": [
        {
          "output_type": "stream",
          "text": [
            "[' ', ',', '.', 'm', '’', \"'\", 'w', ';', '-', '?', 'a', '!', '\\n']\n",
            "[0.48498845265588914, 0.10277136258660508, 0.22170900692840648, 0.1397228637413395, 0.018475750577367205, 0.009237875288683603, 0.0011547344110854503, 0.004618937644341801, 0.003464203233256351, 0.009237875288683603, 0.0011547344110854503, 0.0023094688221709007, 0.0011547344110854503]\n"
          ],
          "name": "stdout"
        }
      ]
    },
    {
      "cell_type": "code",
      "metadata": {
        "id": "l1lCc10NCb7j",
        "colab_type": "code",
        "colab": {}
      },
      "source": [
        "import numpy as np"
      ],
      "execution_count": null,
      "outputs": []
    },
    {
      "cell_type": "code",
      "metadata": {
        "id": "LjcgKqXhDMkc",
        "colab_type": "code",
        "colab": {}
      },
      "source": [
        "pred = np.random.choice(possible_chars, p= probabs )"
      ],
      "execution_count": null,
      "outputs": []
    },
    {
      "cell_type": "code",
      "metadata": {
        "id": "ffgTTDsTDXi0",
        "colab_type": "code",
        "colab": {}
      },
      "source": [
        "input = input+pred"
      ],
      "execution_count": null,
      "outputs": []
    },
    {
      "cell_type": "code",
      "metadata": {
        "id": "QW8QIW75Dnyq",
        "colab_type": "code",
        "colab": {
          "base_uri": "https://localhost:8080/",
          "height": 35
        },
        "outputId": "adaef5f2-ad37-473a-d640-a8bb3e001664"
      },
      "source": [
        "input"
      ],
      "execution_count": null,
      "outputs": [
        {
          "output_type": "execute_result",
          "data": {
            "application/vnd.google.colaboratory.intrinsic+json": {
              "type": "string"
            },
            "text/plain": [
              "'country,'"
            ]
          },
          "metadata": {
            "tags": []
          },
          "execution_count": 24
        }
      ]
    },
    {
      "cell_type": "code",
      "metadata": {
        "id": "kOZNke4ODvfo",
        "colab_type": "code",
        "colab": {}
      },
      "source": [
        "for i in range(500):\n",
        "  possible_chars = list(T[input[-4:]].keys())\n",
        "  possible_freq = list(T[input[-4:]].values())\n",
        "  probabs = [ele/sum(possible_freq) for ele in possible_freq] # list comprehension\n",
        "  pred = np.random.choice(possible_chars, p= probabs )\n",
        "  input = input+pred"
      ],
      "execution_count": null,
      "outputs": []
    },
    {
      "cell_type": "code",
      "metadata": {
        "id": "p-E9KpmEEbnJ",
        "colab_type": "code",
        "colab": {
          "base_uri": "https://localhost:8080/",
          "height": 263
        },
        "outputId": "3b4b3a99-6300-4e2f-8138-693824467b77"
      },
      "source": [
        "print(input)"
      ],
      "execution_count": null,
      "outputs": [
        {
          "output_type": "stream",
          "text": [
            "country, i do get our soil. let us entra.\n",
            "for ther the working destival asia when story in nation. \n",
            "thank you have greatment, brothere!\n",
            "the role the results. i understandaritime when and sisters, scheme to homes in this been out to presentists and hoffman, sociated to be sees do not in its ocean start-up each other is knows what that is a next balance and participation: equaliformations of right has nurture.\n",
            "in that eached development even the people.\n",
            "one potention on has a village you all make speak of that them. red rupees in centuring on that we has rupees of the occasion of internation of nations are take pleases and gift in 100 count opportality limiter#\n",
            "23 11 2014, in world employment live for tribute an only when has past. so isolar rank your country honoured in the 150 transparency. we as onlined a sector our stration.\n",
            "seconomic services the village. \n",
            "but accorder. i said,” the our you are eagers. i will creased people to taken such card to what has compensit. any book the spires. one of greate make in ministan address this very brance many past. its in thentional sector, it is who many excellenge asian of emoting justic to both festyles, we websited hence often us transparent obama, \n",
            "india' of dening small vergently should be aware will afforts have debate, and not steps, which in disputes will always\n",
            "\t• we should new exceeding at the sacrificed change to financially kinship. i deeply? we has bengagement story of search are now fm rain, \n",
            "let me, we will leathere is direct fore from the most; and the resolution. them.\n",
            "more the ship is the are must common village. as through\n"
          ],
          "name": "stdout"
        }
      ]
    },
    {
      "cell_type": "code",
      "metadata": {
        "id": "PXlvXs9sEcig",
        "colab_type": "code",
        "colab": {}
      },
      "source": [
        ""
      ],
      "execution_count": null,
      "outputs": []
    }
  ]
}